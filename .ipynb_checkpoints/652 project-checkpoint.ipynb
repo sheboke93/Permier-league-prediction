{
 "cells": [
  {
   "cell_type": "code",
   "execution_count": 1,
   "metadata": {
    "collapsed": true
   },
   "outputs": [],
   "source": [
    "#处理12-13年数据，英超\n",
    "import pandas as pd\n",
    "data = pd.read_csv(\"2017-2018.csv\")\n",
    "x = data[\"Team_host\"]\n",
    "b = [] \n",
    "for i in x:\n",
    "    a = i.split(\"vs\")\n",
    "    b.append(a)\n",
    "c = []\n",
    "d = []\n",
    "for i in b:\n",
    "    a= i[0]\n",
    "    x= i[1]\n",
    "    c.append(a)\n",
    "    d.append(x)\n",
    "data[\"Teams_host\"]=c\n",
    "data[\"Team_guest\"]=d\n",
    "f = data[\"Result\"]\n",
    "g = []\n",
    "for i in f:\n",
    "    a = i.split(\"-\")\n",
    "    g.append(a)\n",
    "r = []\n",
    "t = []\n",
    "for i in g:\n",
    "    a= i[0]\n",
    "    b= i[1]\n",
    "    r.append(a)\n",
    "    t.append(b)\n",
    "data[\"host\"]=r\n",
    "data[\"guest\"]=t"
   ]
  },
  {
   "cell_type": "code",
   "execution_count": 2,
   "metadata": {
    "collapsed": true
   },
   "outputs": [],
   "source": [
    "data = pd.read_csv(\"/Data/17-18.csv\")\n",
    "channel_1 = pd.read_csv(\"/Data/3.csv\")\n",
    "Num = []\n",
    "Team = []\n",
    "\n",
    "for num in channel_1[\"Num\"]:\n",
    "    Num.append(num)\n",
    "\n",
    "for team in channel_1[\"Team\"]:\n",
    "    Team.append(team)\n",
    "\n",
    "channel_g = data.replace(Team,Num)\n",
    "channel_g.to_csv(\"./Data/17-18_test_data.csv\", index = '')"
   ]
  },
  {
   "cell_type": "code",
   "execution_count": 3,
   "metadata": {
    "collapsed": true
   },
   "outputs": [],
   "source": [
    "#训练线性回归\n",
    "from sklearn.linear_model import LinearRegression as lr\n",
    "import pandas as pd\n",
    "Data = pd.read_csv(\"./Data/cf1.csv\")"
   ]
  },
  {
   "cell_type": "code",
   "execution_count": 4,
   "metadata": {},
   "outputs": [
    {
     "name": "stderr",
     "output_type": "stream",
     "text": [
      "/anaconda3/lib/python3.6/site-packages/scipy/linalg/basic.py:1226: RuntimeWarning: internal gelsd driver lwork query error, required iwork dimension not returned. This is likely the result of LAPACK bug 0038, fixed in LAPACK 3.2.2 (released July 21, 2010). Falling back to 'gelss' driver.\n",
      "  warnings.warn(mesg, RuntimeWarning)\n"
     ]
    },
    {
     "data": {
      "text/plain": [
       "LinearRegression(copy_X=True, fit_intercept=True, n_jobs=1, normalize=False)"
      ]
     },
     "execution_count": 4,
     "metadata": {},
     "output_type": "execute_result"
    }
   ],
   "source": [
    "y_train = Data[\"Rating\"]\n",
    "x_train = Data[Data.columns[1:]]\n",
    "lrg=lr()\n",
    "lrg.fit(x_train, y_train)"
   ]
  },
  {
   "cell_type": "code",
   "execution_count": 5,
   "metadata": {},
   "outputs": [
    {
     "data": {
      "text/plain": [
       "array([ 76.27048697,  73.74763584,  69.32117576,  68.30440081,\n",
       "        72.10556865,  73.20161928,  72.13769879,  70.90059183,\n",
       "        71.04405734,  73.67635227,  75.61054755,  76.09356819,\n",
       "        71.33322533,  71.23937424,  71.55797221,  71.45910014,\n",
       "        72.74880042,  71.06920611,  72.94828896,  67.9152977 ])"
      ]
     },
     "execution_count": 5,
     "metadata": {},
     "output_type": "execute_result"
    }
   ],
   "source": [
    "Data_1 = pd.read_csv(\"/Data/sccc.csv\")\n",
    "Data_2 = Data_1.dropna()\n",
    "x_test =Data_2[Data_2.columns[1:]]\n",
    "y_predict = lrg.predict(x_test)\n",
    "y_predict"
   ]
  },
  {
   "cell_type": "code",
   "execution_count": 6,
   "metadata": {
    "collapsed": true
   },
   "outputs": [],
   "source": [
    "#球队得分数据\n",
    "y_predict_1 = {}\n",
    "y_predict_1[\"score\"]=y_predict\n",
    "y_predict_1= pd.DataFrame(y_predict_1)\n",
    "#y_predict_1.to_csv(\"/Users/sheboke/Desktop/3.csv\")"
   ]
  },
  {
   "cell_type": "code",
   "execution_count": 7,
   "metadata": {
    "collapsed": true
   },
   "outputs": [],
   "source": [
    "#处理比分数据\n",
    "import pandas as pd\n",
    "channel = pd.read_csv(\"./Data/channel.csv\")\n",
    "channel_1 = pd.read_csv(\"./Data/3.csv\")\n",
    "Num = []\n",
    "Team = []\n",
    "\n",
    "for num in channel_1[\"Num\"]:\n",
    "    Num.append(num)\n",
    "\n",
    "for team in channel_1[\"Team\"]:\n",
    "    Team.append(team)\n",
    "\n",
    "channel_gai = channel.replace(Team,Num)\n",
    "channel_gai.to_csv('./Data/channel_gai.csv', index='')"
   ]
  },
  {
   "cell_type": "code",
   "execution_count": 2,
   "metadata": {
    "collapsed": true
   },
   "outputs": [],
   "source": [
    "import pandas as pd\n",
    "result = pd.read_csv('./Data/channel_gai.csv')"
   ]
  },
  {
   "cell_type": "code",
   "execution_count": 9,
   "metadata": {},
   "outputs": [
    {
     "name": "stderr",
     "output_type": "stream",
     "text": [
      "/anaconda3/lib/python3.6/site-packages/ipykernel_launcher.py:10: SettingWithCopyWarning: \n",
      "A value is trying to be set on a copy of a slice from a DataFrame\n",
      "\n",
      "See the caveats in the documentation: http://pandas.pydata.org/pandas-docs/stable/indexing.html#indexing-view-versus-copy\n",
      "  # Remove the CWD from sys.path while we load stuff.\n",
      "/anaconda3/lib/python3.6/site-packages/ipykernel_launcher.py:8: SettingWithCopyWarning: \n",
      "A value is trying to be set on a copy of a slice from a DataFrame\n",
      "\n",
      "See the caveats in the documentation: http://pandas.pydata.org/pandas-docs/stable/indexing.html#indexing-view-versus-copy\n",
      "  \n"
     ]
    }
   ],
   "source": [
    "#整理比赛结果\n",
    "\n",
    "result_column = [0]*1290 \n",
    "result[\"result\"] = result_column\n",
    "row = 0\n",
    "while row<1290:\n",
    "    if result[result.columns[3]][row]> result[result.columns[4]][row]:\n",
    "        result[\"result\"][row]=1\n",
    "    else:\n",
    "        result[\"result\"][row]=0\n",
    "    row = row + 1\n",
    "    continue"
   ]
  },
  {
   "cell_type": "code",
   "execution_count": 10,
   "metadata": {
    "collapsed": true
   },
   "outputs": [],
   "source": [
    "test_data = pd.read_csv(\"./Data/17-18_test_data.csv\")\n",
    "test_data_column = [0]*79\n",
    "test_data[\"result\"] = test_data_column\n",
    "row = 0\n",
    "while row<79:\n",
    "    if test_data[test_data.columns[2]][row]> result[result.columns[3]][row]:\n",
    "        test_data[\"result\"][row]=1\n",
    "    else:\n",
    "        test_data[\"result\"][row]=0\n",
    "    row = row + 1\n",
    "    continue"
   ]
  },
  {
   "cell_type": "code",
   "execution_count": 11,
   "metadata": {
    "collapsed": true
   },
   "outputs": [],
   "source": [
    "#test_data.to_csv(\"/Users/sheboke/Desktop/test_data_result.csv\")"
   ]
  },
  {
   "cell_type": "code",
   "execution_count": 3,
   "metadata": {},
   "outputs": [
    {
     "data": {
      "text/plain": [
       "LogisticRegression(C=1.0, class_weight=None, dual=False, fit_intercept=True,\n",
       "          intercept_scaling=1, max_iter=100, multi_class='ovr', n_jobs=1,\n",
       "          penalty='l2', random_state=None, solver='liblinear', tol=0.0001,\n",
       "          verbose=0, warm_start=False)"
      ]
     },
     "execution_count": 3,
     "metadata": {},
     "output_type": "execute_result"
    }
   ],
   "source": [
    "#进行逻辑回归\n",
    "import pandas as pd\n",
    "from sklearn import metrics\n",
    "from sklearn.linear_model import LogisticRegression\n",
    "from sklearn.model_selection import train_test_split\n",
    "from sklearn.metrics import roc_auc_score\n",
    "lg = LogisticRegression()\n",
    "train_data = pd.read_csv(\"./Data/result_1.csv\")\n",
    "x= train_data[[\"Teams_host\",\"Teams_guest\"]]\n",
    "y= train_data[\"result\"]\n",
    "lg.fit(x, y)"
   ]
  },
  {
   "cell_type": "code",
   "execution_count": 68,
   "metadata": {},
   "outputs": [
    {
     "name": "stdout",
     "output_type": "stream",
     "text": [
      "LogisticRegression_auc = 0.509\n"
     ]
    }
   ],
   "source": [
    "import matplotlib.pyplot as plt\n",
    "test_data = pd.read_csv(\"./Data/17-18_test_data_1.csv\")\n",
    "y_test_lr=test_data[[\"result\"]]\n",
    "x_test_lr=test_data[[\"Teams_host\",\"Teams_guest\"]]\n",
    "y_predict_lr = lg.predict(x_test_lr)\n",
    "y_predict_lr_1 = lg.predict_proba(x_test_lr)\n",
    "dt_roc_auc = roc_auc_score(y_test_lr, y_predict_lr)\n",
    "print (\"LogisticRegression_auc = %2.3f\" % dt_roc_auc)\n",
    "fpr_lr, tpr_lr, thresholds_lr = metrics.roc_curve(y_test_lr, y_predict_lr_1[:,1], pos_label=1)"
   ]
  },
  {
   "cell_type": "code",
   "execution_count": 15,
   "metadata": {
    "collapsed": true
   },
   "outputs": [],
   "source": [
    "#NaiveBayes\n",
    "test_data = pd.read_csv(\"./Data/17-18_test_data_1.csv\")"
   ]
  },
  {
   "cell_type": "code",
   "execution_count": 69,
   "metadata": {},
   "outputs": [
    {
     "name": "stdout",
     "output_type": "stream",
     "text": [
      "NaiveBayes_auc = 0.549\n"
     ]
    }
   ],
   "source": [
    "from sklearn.naive_bayes import GaussianNB\n",
    "gnb = GaussianNB()\n",
    "gnb.fit(x,y)\n",
    "y_test_nb=test_data[[\"result\"]]\n",
    "x_test_nb=test_data[[\"Teams_host\",\"Teams_guest\"]]\n",
    "y_predict_nb=gnb.predict(x_test_nb)\n",
    "p_1=roc_auc_score(y_test_nb, y_predict_nb)\n",
    "print (\"NaiveBayes_auc = %2.3f\" % p_1)\n",
    "y_predict_nb_1 = gnb.predict_proba(x_test_nb)\n",
    "fpr_nb, tpr_nb, thresholds_nb = metrics.roc_curve(y_test_nb, y_predict_nb_1[:,1], pos_label=1)\n"
   ]
  },
  {
   "cell_type": "code",
   "execution_count": 17,
   "metadata": {
    "collapsed": true
   },
   "outputs": [],
   "source": [
    "#最屌的KNN\n",
    "from sklearn.neighbors import KNeighborsClassifier \n",
    "k_range = range(1,38)\n",
    "KNN_result = []\n",
    "for i in k_range:\n",
    "    kNN= KNeighborsClassifier(n_neighbors=i)\n",
    "    kNN.fit(x,y) \n",
    "    y_predict_knn=kNN.predict(x_test_knn)\n",
    "    p_2=roc_auc_score(y_test_knn, y_predict_knn)\n",
    "    KNN_result.append(p_2)\n",
    "#print (\"KNN_auc = %2.2f\" % p_2)"
   ]
  },
  {
   "cell_type": "code",
   "execution_count": 18,
   "metadata": {},
   "outputs": [
    {
     "data": {
      "text/plain": [
       "[<matplotlib.lines.Line2D at 0x1106d80f0>]"
      ]
     },
     "execution_count": 18,
     "metadata": {},
     "output_type": "execute_result"
    },
    {
     "data": {
      "image/png": "[encoded data removed]",
      "text/plain": [
       "<matplotlib.figure.Figure at 0x103cc85c0>"
      ]
     },
     "metadata": {},
     "output_type": "display_data"
    }
   ],
   "source": [
    "import matplotlib.pyplot as plt\n",
    "%matplotlib inline\n",
    "plt.plot(k_range, KNN_result)"
   ]
  },
  {
   "cell_type": "code",
   "execution_count": 56,
   "metadata": {},
   "outputs": [
    {
     "name": "stdout",
     "output_type": "stream",
     "text": [
      "KNN_auc = 0.698\n"
     ]
    }
   ],
   "source": [
    "from sklearn import metrics\n",
    "from sklearn.neighbors import KNeighborsClassifier\n",
    "kNN= KNeighborsClassifier(n_neighbors=23)\n",
    "kNN.fit(x,y)\n",
    "y_test_knn=test_data[[\"result\"]]\n",
    "x_test_knn=test_data[[\"Teams_host\",\"Teams_guest\"]]\n",
    "y_predict_knn=kNN.predict(x_test_knn)\n",
    "p_2=roc_auc_score(y_test_knn, y_predict_knn)\n",
    "print (\"KNN_auc = %2.3f\" % p_2)\n",
    "y_predict_knn_1 = kNN.predict_proba(x_test_knn)\n",
    "fpr_knn, tpr_knn, thresholds_knn = metrics.roc_curve(y_test_knn, y_predict_knn_1[:,1], pos_label=1)"
   ]
  },
  {
   "cell_type": "code",
   "execution_count": 30,
   "metadata": {},
   "outputs": [
    {
     "name": "stderr",
     "output_type": "stream",
     "text": [
      "/anaconda3/lib/python3.6/site-packages/sklearn/cross_validation.py:41: DeprecationWarning: This module was deprecated in version 0.18 in favor of the model_selection module into which all the refactored classes and functions are moved. Also note that the interface of the new CV iterators are different from that of this module. This module will be removed in 0.20.\n",
      "  \"This module will be removed in 0.20.\", DeprecationWarning)\n"
     ]
    }
   ],
   "source": [
    "#DesicionTreeClassifier\n",
    "import numpy as np  \n",
    "from sklearn.preprocessing import MinMaxScaler  \n",
    "from sklearn.cross_validation import cross_val_score  \n",
    "from collections import defaultdict  \n",
    "from sklearn.tree import DecisionTreeClassifier  \n",
    "from sklearn.neighbors import KNeighborsClassifier\n",
    "from sklearn import metrics\n",
    "import pandas as pd"
   ]
  },
  {
   "cell_type": "code",
   "execution_count": 28,
   "metadata": {},
   "outputs": [
    {
     "data": {
      "text/html": [
       "<div>\n",
       "<style>\n",
       "    .dataframe thead tr:only-child th {\n",
       "        text-align: right;\n",
       "    }\n",
       "\n",
       "    .dataframe thead th {\n",
       "        text-align: left;\n",
       "    }\n",
       "\n",
       "    .dataframe tbody tr th {\n",
       "        vertical-align: top;\n",
       "    }\n",
       "</style>\n",
       "<table border=\"1\" class=\"dataframe\">\n",
       "  <thead>\n",
       "    <tr style=\"text-align: right;\">\n",
       "      <th></th>\n",
       "      <th>Unnamed: 0</th>\n",
       "      <th>Teams_host</th>\n",
       "      <th>Unnamed: 1</th>\n",
       "      <th>Teams_guest</th>\n",
       "      <th>host</th>\n",
       "      <th>guest</th>\n",
       "      <th>result</th>\n",
       "    </tr>\n",
       "  </thead>\n",
       "  <tbody>\n",
       "    <tr>\n",
       "      <th>0</th>\n",
       "      <td>0</td>\n",
       "      <td>0</td>\n",
       "      <td>vs</td>\n",
       "      <td>18</td>\n",
       "      <td>1.0</td>\n",
       "      <td>5.0</td>\n",
       "      <td>0</td>\n",
       "    </tr>\n",
       "    <tr>\n",
       "      <th>1</th>\n",
       "      <td>1</td>\n",
       "      <td>12</td>\n",
       "      <td>vs</td>\n",
       "      <td>6</td>\n",
       "      <td>0.0</td>\n",
       "      <td>0.0</td>\n",
       "      <td>0</td>\n",
       "    </tr>\n",
       "    <tr>\n",
       "      <th>2</th>\n",
       "      <td>2</td>\n",
       "      <td>16</td>\n",
       "      <td>vs</td>\n",
       "      <td>11</td>\n",
       "      <td>1.0</td>\n",
       "      <td>1.0</td>\n",
       "      <td>0</td>\n",
       "    </tr>\n",
       "    <tr>\n",
       "      <th>3</th>\n",
       "      <td>3</td>\n",
       "      <td>1</td>\n",
       "      <td>vs</td>\n",
       "      <td>0</td>\n",
       "      <td>1.0</td>\n",
       "      <td>2.0</td>\n",
       "      <td>0</td>\n",
       "    </tr>\n",
       "    <tr>\n",
       "      <th>4</th>\n",
       "      <td>4</td>\n",
       "      <td>15</td>\n",
       "      <td>vs</td>\n",
       "      <td>13</td>\n",
       "      <td>1.0</td>\n",
       "      <td>3.0</td>\n",
       "      <td>0</td>\n",
       "    </tr>\n",
       "  </tbody>\n",
       "</table>\n",
       "</div>"
      ],
      "text/plain": [
       "   Unnamed: 0  Teams_host Unnamed: 1  Teams_guest  host  guest  result\n",
       "0           0           0         vs           18   1.0    5.0       0\n",
       "1           1          12         vs            6   0.0    0.0       0\n",
       "2           2          16         vs           11   1.0    1.0       0\n",
       "3           3           1         vs            0   1.0    2.0       0\n",
       "4           4          15         vs           13   1.0    3.0       0"
      ]
     },
     "execution_count": 28,
     "metadata": {},
     "output_type": "execute_result"
    }
   ],
   "source": [
    "dataset = pd.read_csv('./Data/result_1.csv')  \n",
    "dataset[0:5]"
   ]
  },
  {
   "cell_type": "code",
   "execution_count": 31,
   "metadata": {},
   "outputs": [
    {
     "name": "stderr",
     "output_type": "stream",
     "text": [
      "/anaconda3/lib/python3.6/site-packages/ipykernel_launcher.py:13: DeprecationWarning: \n",
      ".ix is deprecated. Please use\n",
      ".loc for label based indexing or\n",
      ".iloc for positional indexing\n",
      "\n",
      "See the documentation here:\n",
      "http://pandas.pydata.org/pandas-docs/stable/indexing.html#ix-indexer-is-deprecated\n",
      "  del sys.path[0]\n"
     ]
    },
    {
     "data": {
      "text/plain": [
       "DecisionTreeClassifier(class_weight=None, criterion='gini', max_depth=None,\n",
       "            max_features=None, max_leaf_nodes=None,\n",
       "            min_impurity_decrease=0.0, min_impurity_split=None,\n",
       "            min_samples_leaf=1, min_samples_split=2,\n",
       "            min_weight_fraction_leaf=0.0, presort=False, random_state=None,\n",
       "            splitter='best')"
      ]
     },
     "execution_count": 31,
     "metadata": {},
     "output_type": "execute_result"
    }
   ],
   "source": [
    "dataset[\"HomeWin\"] = dataset['host'] < dataset['guest']  \n",
    "dataset[\"HomeLastWin\"] = False  \n",
    "dataset[\"VisitorLastWin\"] = False  \n",
    "  \n",
    "y_true = dataset[\"HomeWin\"].values  \n",
    "  \n",
    "won_last = defaultdict(int)  \n",
    "for index, row in dataset.iterrows():  \n",
    "    home_team = row['Teams_host']  \n",
    "    visitor_team = row['Teams_guest']  \n",
    "    row['HomeLastWin'] = won_last[home_team]  \n",
    "    row['VisitorLastWin'] = won_last[visitor_team]  \n",
    "    dataset.ix[index] = row  \n",
    "    won_last[home_team] = row['HomeWin']  \n",
    "    won_last[visitor_team] = not row['HomeWin']  \n",
    "x_previouswin = dataset[['HomeLastWin','VisitorLastWin']].values    \n",
    "clf =  DecisionTreeClassifier() \n",
    "clf.fit(x_previouswin,y_true)"
   ]
  },
  {
   "cell_type": "code",
   "execution_count": 32,
   "metadata": {
    "collapsed": true
   },
   "outputs": [],
   "source": [
    "test_data =  pd.read_csv('./Data/17-18_test_data_1.csv')"
   ]
  },
  {
   "cell_type": "code",
   "execution_count": 45,
   "metadata": {},
   "outputs": [
    {
     "name": "stdout",
     "output_type": "stream",
     "text": [
      "Decisiontree_auc = 0.500\n"
     ]
    }
   ],
   "source": [
    "from sklearn.metrics import roc_auc_score\n",
    "test_data[\"HomeWin\"] = test_data['host'] < test_data['guest']  \n",
    "test_data[\"HomeLastWin\"] = False  \n",
    "test_data[\"VisitorLastWin\"] = False    \n",
    "y_test_dt = test_data[\"HomeWin\"].values\n",
    "won_last_1 = defaultdict(int) \n",
    "for index, row in test_data.iterrows():  \n",
    "    home_team = row['Teams_host']  \n",
    "    visitor_team = row['Teams_guest']  \n",
    "    row['HomeLastWin'] = won_last[home_team]  \n",
    "    row['VisitorLastWin'] = won_last[visitor_team]  \n",
    "    dataset.ix[index] = row  \n",
    "    won_last_1[home_team] = row['HomeWin']  \n",
    "    won_last_1[visitor_team] = not row['HomeWin']  \n",
    "x_test_dt = test_data[['HomeLastWin','VisitorLastWin']].values\n",
    "y_predict_dt = clf.predict(x_test_dt)\n",
    "dt_roc_auc = roc_auc_score(y_test_dt, y_predict_dt)\n",
    "print (\"Decisiontree_auc = %2.3f\" % dt_roc_auc)\n",
    "y_predict_dt_1 = clf.predict_proba(x_test_dt)\n",
    "fpr_dt, tpr_dt, thresholds = metrics.roc_curve(y_test_dt, y_predict_dt_1[:,1], pos_label=1)"
   ]
  },
  {
   "cell_type": "code",
   "execution_count": 57,
   "metadata": {},
   "outputs": [
    {
     "name": "stdout",
     "output_type": "stream",
     "text": [
      "AdaBoostClassifier_auc = 0.632\n"
     ]
    }
   ],
   "source": [
    "#高级模型AdaboostClassifier\n",
    "from sklearn.model_selection import cross_val_score\n",
    "from sklearn.ensemble import AdaBoostClassifier\n",
    "#from sklearn.metrics import roc_ruc_score\n",
    "tt = pd.read_csv('./Data/result_1.csv') \n",
    "x= tt[[\"Teams_host\",\"Teams_guest\"]]\n",
    "y= tt[\"result\"]\n",
    "clf = AdaBoostClassifier(n_estimators=100)\n",
    "clf.fit(x,y)\n",
    "tt_1 = pd.read_csv('./Data/17-18_test_data_1.csv')\n",
    "x_test_ada = tt_1[[\"Teams_host\",\"Teams_guest\"]]\n",
    "y_test_ada = tt_1[\"result\"]\n",
    "y_predict_ada = clf.predict(x_test_ada)\n",
    "dt_roc_auc = roc_auc_score(y_test_ada, y_predict_ada)\n",
    "print (\"AdaBoostClassifier_auc = %2.3f\" % dt_roc_auc)\n",
    "y_predict_ada_1 = clf.predict_proba(x_test_ada)\n",
    "fpr_ada, tpr_ada, thresholds_ada = metrics.roc_curve(y_test_ada, y_predict_ada_1[:,1], pos_label=1)"
   ]
  },
  {
   "cell_type": "code",
   "execution_count": 58,
   "metadata": {
    "scrolled": true
   },
   "outputs": [
    {
     "name": "stdout",
     "output_type": "stream",
     "text": [
      "Xgboost_auc = 0.664\n"
     ]
    }
   ],
   "source": [
    "#高级模型XGBOOST\n",
    "import xgboost as xgb\n",
    "from sklearn.model_selection import GridSearchCV\n",
    "tt = pd.read_csv('./Data/result_1.csv') \n",
    "x_1= tt[[\"Teams_host\",\"Teams_guest\"]]\n",
    "y_1= tt[\"result\"]\n",
    "param_dist = {'objective':'binary:logistic', 'n_estimators':100,'max_depth':5, 'silent':1}\n",
    "xgb_model = xgb.XGBClassifier(**param_dist)\n",
    "xgb_model.fit(x_1,y_1)\n",
    "tt_1 = pd.read_csv('./Data/17-18_test_data_1.csv')\n",
    "x_test_1 = tt_1[[\"Teams_host\",\"Teams_guest\"]]\n",
    "y_test_1 = tt_1[\"result\"]\n",
    "y_predict_1 = xgb_model.predict(x_test_1)\n",
    "d_roc_auc = roc_auc_score(y_test_1, y_predict_1)\n",
    "print (\"Xgboost_auc = %2.3f\" % d_roc_auc)\n",
    "y_predict_1_1 = xgb_model.predict_proba(x_test_1)\n",
    "fpr_1, tpr_1, thresholds_1 = metrics.roc_curve(y_test_1, y_predict_1_1[:,1], pos_label=1)"
   ]
  },
  {
   "cell_type": "code",
   "execution_count": 67,
   "metadata": {},
   "outputs": [
    {
     "name": "stdout",
     "output_type": "stream",
     "text": [
      "svc_auc = 0.667\n"
     ]
    }
   ],
   "source": [
    "from sklearn.svm import SVC\n",
    "tx = pd.read_csv('./Data/result_1.csv') \n",
    "x_2= tx[[\"Teams_host\",\"Teams_guest\"]]\n",
    "y_2= tx[\"result\"]\n",
    "cl = SVC(probability= True)\n",
    "cl.fit(x_2,y_2)\n",
    "tx_1 = pd.read_csv('./Data/17-18_test_data_1.csv')\n",
    "x_test_2 = tx_1[[\"Teams_host\",\"Teams_guest\"]]\n",
    "y_test_2 = tx_1[\"result\"]\n",
    "y_predict_2 = cl.predict(x_test_2)\n",
    "dt_roc_auc = roc_auc_score(y_test_2, y_predict_2)\n",
    "print (\"svc_auc = %2.3f\" % dt_roc_auc)\n",
    "y_predict_2_1 =cl.predict_proba(x_test_2)\n",
    "fpr_2, tpr_2, thresholds_2 = metrics.roc_curve(y_test_2, y_predict_2_1[:,1], pos_label=1)"
   ]
  },
  {
   "cell_type": "code",
   "execution_count": 66,
   "metadata": {
    "scrolled": true
   },
   "outputs": [
    {
     "data": {
      "image/png": "[encoded data removed]",
      "text/plain": [
       "<matplotlib.figure.Figure at 0x11f443ef0>"
      ]
     },
     "metadata": {},
     "output_type": "display_data"
    }
   ],
   "source": [
    "import matplotlib.pyplot as plt\n",
    "plt.plot(fpr_lr,tpr_lr, color=\"green\")# logistic\n",
    "plt.plot(fpr_nb,tpr_nb, color=\"red\")#naive bayes\n",
    "plt.plot(fpr_1,tpr_1, color=\"yellow\")#xgboost\n",
    "plt.plot(fpr_2,tpr_2, color=\"black\")#svc\n",
    "plt.plot(fpr_knn,tpr_knn, color=\"blue\")#knn\n",
    "plt.plot(fpr_ada,tpr_ada, color=\"gray\")#adaboost\n",
    "plt.show()"
   ]
  },
  {
   "cell_type": "code",
   "execution_count": null,
   "metadata": {},
   "outputs": [],
   "source": []
  }
 ],
 "metadata": {
  "kernelspec": {
   "display_name": "Python 3",
   "language": "python",
   "name": "python3"
  },
  "language_info": {
   "codemirror_mode": {
    "name": "ipython",
    "version": 3
   },
   "file_extension": ".py",
   "mimetype": "text/x-python",
   "name": "python",
   "nbconvert_exporter": "python",
   "pygments_lexer": "ipython3",
   "version": "3.5.4"
  }
 },
 "nbformat": 4,
 "nbformat_minor": 2
}
